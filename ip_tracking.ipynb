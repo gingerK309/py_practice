{
 "cells": [
  {
   "cell_type": "code",
   "execution_count": 1,
   "metadata": {},
   "outputs": [],
   "source": [
    "import requests\n",
    "import json"
   ]
  },
  {
   "cell_type": "code",
   "execution_count": 2,
   "metadata": {},
   "outputs": [
    {
     "name": "stdout",
     "output_type": "stream",
     "text": [
      "\n",
      "도메인 이름:naver.com\n",
      "----------------------------------------\n",
      "status:success\n",
      "country:South Korea\n",
      "countryCode:KR\n",
      "region:46\n",
      "regionName:Jeollanam-do\n",
      "city:Naju-si\n",
      "zip:\n",
      "lat:35.0161\n",
      "lon:126.711\n",
      "timezone:Asia/Seoul\n",
      "isp:NBP\n",
      "org:NBP\n",
      "as:AS23576 NBP\n",
      "query:125.209.222.141\n",
      "\n",
      "도메인 이름:google.com\n",
      "----------------------------------------\n",
      "status:success\n",
      "country:Singapore\n",
      "countryCode:SG\n",
      "region:\n",
      "regionName:\n",
      "city:Queenstown Estate\n",
      "zip:\n",
      "lat:1.27623\n",
      "lon:103.8\n",
      "timezone:Asia/Singapore\n",
      "isp:Google LLC\n",
      "org:Google LLC\n",
      "as:AS15169 Google LLC\n",
      "query:172.217.194.100\n",
      "\n",
      "도메인 이름:q\n",
      "----------------------------------------\n",
      "종료\n"
     ]
    }
   ],
   "source": [
    "while  True:\n",
    "    domain_name = input('\\n도메인 이름:')\n",
    "    print('----------------------------------------')\n",
    "    url=f'http://ip-api.com/json/{domain_name}'\n",
    "    res = requests.get(url)\n",
    "    ip_api = json.loads(res.text)\n",
    "    for i in ip_api.keys():\n",
    "        if domain_name != 'q':\n",
    "            print(f'{i}:{ip_api[i]}')\n",
    "            continue\n",
    "    if domain_name == 'q':\n",
    "        print('종료')\n",
    "        break"
   ]
  }
 ],
 "metadata": {
  "kernelspec": {
   "display_name": "Python 3",
   "language": "python",
   "name": "python3"
  },
  "language_info": {
   "codemirror_mode": {
    "name": "ipython",
    "version": 3
   },
   "file_extension": ".py",
   "mimetype": "text/x-python",
   "name": "python",
   "nbconvert_exporter": "python",
   "pygments_lexer": "ipython3",
   "version": "3.8.2"
  }
 },
 "nbformat": 4,
 "nbformat_minor": 4
}
