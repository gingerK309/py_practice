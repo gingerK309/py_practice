{
 "cells": [
  {
   "cell_type": "code",
   "execution_count": 6,
   "metadata": {},
   "outputs": [
    {
     "name": "stdout",
     "output_type": "stream",
     "text": [
      "사당행 열차가 들어오고 있습니다.\n",
      "신도림행 열차가 들어오고 있습니다.\n",
      "인천공항행 열차가 들어오고 있습니다.\n"
     ]
    }
   ],
   "source": [
    "station = ['사당','신도림','인천공항']\n",
    "for i,s in enumerate(station):\n",
    "    print(f'{station[i]}행 열차가 들어오고 있습니다.')"
   ]
  },
  {
   "cell_type": "code",
   "execution_count": 13,
   "metadata": {},
   "outputs": [
    {
     "name": "stdout",
     "output_type": "stream",
     "text": [
      "오프라인 스터디 모임 날짜는 매월 13일로 선정되었습니다.\n"
     ]
    }
   ],
   "source": [
    "import random\n",
    "date = randint(4,28)\n",
    "print(f'오프라인 스터디 모임 날짜는 매월 {date}일로 선정되었습니다.')"
   ]
  },
  {
   "cell_type": "code",
   "execution_count": 31,
   "metadata": {},
   "outputs": [
    {
     "name": "stdout",
     "output_type": "stream",
     "text": [
      "생성된 비밀번호: nav51!\n"
     ]
    }
   ],
   "source": [
    "domain = 'http://naver.com'\n",
    "domain = domain.strip('http://').split('.')[0]\n",
    "pw = domain[:3] + str(len(domain)) + str(domain.count('e')) + '!'\n",
    "print(f'생성된 비밀번호: {pw}')"
   ]
  },
  {
   "cell_type": "code",
   "execution_count": 20,
   "metadata": {},
   "outputs": [
    {
     "name": "stdout",
     "output_type": "stream",
     "text": [
      "-- 당첨자 발표 --\n",
      "치킨 당첨자: 3\n",
      "커피 당첨자: [5, 2, 16]\n",
      "-- 축하합니다 --\n"
     ]
    }
   ],
   "source": [
    "from random import *\n",
    "candidate = list(range(1,21))\n",
    "shuffle(candidate)\n",
    "win = sample(candidate,4)\n",
    "print('-- 당첨자 발표 --')\n",
    "print(f'치킨 당첨자: {win[0]}')\n",
    "print(f'커피 당첨자: {win[1:]}')\n",
    "print('-- 축하합니다 --')"
   ]
  },
  {
   "cell_type": "code",
   "execution_count": 29,
   "metadata": {},
   "outputs": [
    {
     "name": "stdout",
     "output_type": "stream",
     "text": [
      "[ ] 1 번째 손님 (소요시간 : 16분)\n",
      "[O] 2 번째 손님 (소요시간 : 9분)\n",
      "[O] 3 번째 손님 (소요시간 : 13분)\n",
      "[O] 4 번째 손님 (소요시간 : 14분)\n",
      "[O] 5 번째 손님 (소요시간 : 9분)\n",
      "[O] 6 번째 손님 (소요시간 : 15분)\n",
      "[ ] 7 번째 손님 (소요시간 : 43분)\n",
      "[ ] 8 번째 손님 (소요시간 : 36분)\n",
      "[ ] 9 번째 손님 (소요시간 : 37분)\n",
      "[ ] 10 번째 손님 (소요시간 : 19분)\n",
      "[ ] 11 번째 손님 (소요시간 : 49분)\n",
      "[ ] 12 번째 손님 (소요시간 : 35분)\n",
      "[ ] 13 번째 손님 (소요시간 : 22분)\n",
      "[ ] 14 번째 손님 (소요시간 : 22분)\n",
      "[ ] 15 번째 손님 (소요시간 : 17분)\n",
      "[ ] 16 번째 손님 (소요시간 : 44분)\n",
      "[ ] 17 번째 손님 (소요시간 : 43분)\n",
      "[ ] 18 번째 손님 (소요시간 : 18분)\n",
      "[ ] 19 번째 손님 (소요시간 : 19분)\n",
      "[O] 20 번째 손님 (소요시간 : 9분)\n",
      "[ ] 21 번째 손님 (소요시간 : 35분)\n",
      "[ ] 22 번째 손님 (소요시간 : 21분)\n",
      "[ ] 23 번째 손님 (소요시간 : 30분)\n",
      "[ ] 24 번째 손님 (소요시간 : 40분)\n",
      "[ ] 25 번째 손님 (소요시간 : 17분)\n",
      "[O] 26 번째 손님 (소요시간 : 7분)\n",
      "[ ] 27 번째 손님 (소요시간 : 19분)\n",
      "[ ] 28 번째 손님 (소요시간 : 47분)\n",
      "[O] 29 번째 손님 (소요시간 : 11분)\n",
      "[ ] 30 번째 손님 (소요시간 : 37분)\n",
      "[ ] 31 번째 손님 (소요시간 : 41분)\n",
      "[O] 32 번째 손님 (소요시간 : 8분)\n",
      "[O] 33 번째 손님 (소요시간 : 7분)\n",
      "[ ] 34 번째 손님 (소요시간 : 23분)\n",
      "[ ] 35 번째 손님 (소요시간 : 42분)\n",
      "[ ] 36 번째 손님 (소요시간 : 40분)\n",
      "[ ] 37 번째 손님 (소요시간 : 16분)\n",
      "[ ] 38 번째 손님 (소요시간 : 34분)\n",
      "[ ] 39 번째 손님 (소요시간 : 29분)\n",
      "[O] 40 번째 손님 (소요시간 : 15분)\n",
      "[ ] 41 번째 손님 (소요시간 : 20분)\n",
      "[ ] 42 번째 손님 (소요시간 : 47분)\n",
      "[ ] 43 번째 손님 (소요시간 : 19분)\n",
      "[ ] 44 번째 손님 (소요시간 : 27분)\n",
      "[ ] 45 번째 손님 (소요시간 : 28분)\n",
      "[ ] 46 번째 손님 (소요시간 : 39분)\n",
      "[ ] 47 번째 손님 (소요시간 : 46분)\n",
      "[O] 48 번째 손님 (소요시간 : 14분)\n",
      "[ ] 49 번째 손님 (소요시간 : 23분)\n",
      "[ ] 50 번째 손님 (소요시간 : 20분)\n",
      "총 탑승 승객 : 12 분\n"
     ]
    }
   ],
   "source": [
    "from random import *\n",
    "count = 0\n",
    "for i in range(1,51):\n",
    "    time = randint(5,50)\n",
    "    if 5<=time<=15:\n",
    "        print(f'[O] {i} 번째 손님 (소요시간 : {time}분)')\n",
    "        count += 1 \n",
    "    else:\n",
    "         print(f'[ ] {i} 번째 손님 (소요시간 : {time}분)')\n",
    "print(f'총 탑승 승객 : {count} 분') "
   ]
  },
  {
   "cell_type": "code",
   "execution_count": 52,
   "metadata": {},
   "outputs": [
    {
     "name": "stdout",
     "output_type": "stream",
     "text": [
      "키 172cm 남자의 표준 체중은 65.08 kg 입니다.\n"
     ]
    }
   ],
   "source": [
    "def std_weight(height,gender):\n",
    "    if gender == '여자':\n",
    "        print(f'키 {height}cm {gender}의 표준 체중은' ,'%.2f'%(height/100*height/100*21),'kg 입니다.')\n",
    "    if gender == '남자':\n",
    "        print(f'키 {height}cm {gender}의 표준 체중은' ,'%.2f'%(height/100*height/100*22),'kg 입니다.')\n",
    "std_weight(172,'남자')"
   ]
  },
  {
   "cell_type": "code",
   "execution_count": 55,
   "metadata": {},
   "outputs": [],
   "source": [
    "for week in range(1,51):\n",
    "    with open(f'{week}주차.txt','w',encoding='utf-8') as file:\n",
    "        lines = [f'-{week} 주차 주간보고-\\n','부서:\\n','이름:\\n','업무 요약:\\n']\n",
    "        file.writelines(lines)"
   ]
  },
  {
   "cell_type": "code",
   "execution_count": 17,
   "metadata": {},
   "outputs": [
    {
     "name": "stdout",
     "output_type": "stream",
     "text": [
      "[알림] 새로운 게임을 시작.\n",
      "마린이(가) 생성됨.\n",
      "마린이(가) 생성됨.\n",
      "마린이(가) 생성됨.\n",
      "탱크이(가) 생성됨.\n",
      "탱크이(가) 생성됨.\n",
      "레이스이(가) 생성됨.\n",
      "[지상 유닛 이동]\n",
      "마린: 1시 방향으로 이동. [속도 1]\n",
      "[지상 유닛 이동]\n",
      "마린: 1시 방향으로 이동. [속도 1]\n",
      "[지상 유닛 이동]\n",
      "마린: 1시 방향으로 이동. [속도 1]\n",
      "[지상 유닛 이동]\n",
      "탱크: 1시 방향으로 이동. [속도 1]\n",
      "[지상 유닛 이동]\n",
      "탱크: 1시 방향으로 이동. [속도 1]\n",
      "[공중 유닛 이동]\n",
      "레이스: 1시 방향으로 날아감. [속도 5]\n",
      "[알림] 탱크 시즈 모드 개발 완료.\n",
      "마린: 스팀팩 사용 (HP 10 감소)\n",
      "마린: 스팀팩 사용 (HP 10 감소)\n",
      "마린: 스팀팩 사용 (HP 10 감소)\n",
      "탱크: 시즈모드로 전환.\n",
      "탱크: 시즈모드로 전환.\n",
      "레이스: 클로킹 모드 설정.\n",
      "마린: 1시 방향으로 적군을 공격. [공격력 5] \n",
      "마린: 1시 방향으로 적군을 공격. [공격력 5] \n",
      "마린: 1시 방향으로 적군을 공격. [공격력 5] \n",
      "탱크: 1시 방향으로 적군을 공격. [공격력 70] \n",
      "탱크: 1시 방향으로 적군을 공격. [공격력 70] \n",
      "레이스: 1시 방향으로 적군을 공격. [공격력 20] \n",
      "마린: 7 데미지를 입음.\n",
      "마린: 현재 체력은 23\n",
      "마린: 6 데미지를 입음.\n",
      "마린: 현재 체력은 24\n",
      "마린: 8 데미지를 입음.\n",
      "마린: 현재 체력은 22\n",
      "탱크: 5 데미지를 입음.\n",
      "탱크: 현재 체력은 145\n",
      "탱크: 20 데미지를 입음.\n",
      "탱크: 현재 체력은 130\n",
      "레이스: 13 데미지를 입음.\n",
      "레이스: 현재 체력은 67\n",
      "Player: gg\n",
      "[Player] 님이 게임에서 퇴장함.\n"
     ]
    }
   ],
   "source": [
    "from random import *\n",
    "\n",
    "class Unit:\n",
    "    def __init__(self,name,hp,speed):\n",
    "        self.name = name\n",
    "        self.hp = hp\n",
    "        self.speed = speed\n",
    "        print(f'{self.name}이(가) 생성됨.')\n",
    "    def move(self,loc):\n",
    "        print('[지상 유닛 이동]')\n",
    "        print(f'{self.name}: {loc} 방향으로 이동. [속도 {self.speed}]')\n",
    "    def damaged(self,damage):\n",
    "        print(f'{self.name}: {damage} 데미지를 입음.')\n",
    "        self.hp -= damage\n",
    "        print(f'{self.name}: 현재 체력은 {self.hp}')\n",
    "        if self.hp <= 0:\n",
    "            print(f'{self.name}: 파괴됨.')\n",
    "    \n",
    "class AttackUnit(Unit):\n",
    "    def __init__(self,name,hp, speed ,damage):\n",
    "        Unit.__init__(self,name,hp,speed)\n",
    "        self.damage = damage\n",
    "    def attack(self,loc):\n",
    "        print(f'{self.name}: {loc} 방향으로 적군을 공격. [공격력 {self.damage}] ')\n",
    "    def damaged(self,damage):\n",
    "        print(f'{self.name}: {damage} 데미지를 입음.')\n",
    "        self.hp -= damage\n",
    "        print(f'{self.name}: 현재 체력은 {self.hp}')\n",
    "        if self.hp <= 0:\n",
    "            print(f'{self.name}: 파괴됨.')\n",
    "\n",
    "class Marine(AttackUnit):\n",
    "    def __init__(self):\n",
    "        AttackUnit.__init__(self,'마린',40,1,5)\n",
    "    def stimpack(self):\n",
    "        if self.hp>10:\n",
    "            self.hp -=10\n",
    "            print(f'{self.name}: 스팀팩 사용 (HP 10 감소)')\n",
    "        else:\n",
    "            print(f'{self.name}: 체력이 부족하여 스팀팩을 사용할 수 없음.')\n",
    "\n",
    "class Tank(AttackUnit):\n",
    "    seize_developed = False \n",
    "    def __init__(self):\n",
    "        AttackUnit.__init__(self,'탱크',150,1,35)\n",
    "        self.seize_mode = False\n",
    "    def set_seize_mode(self):\n",
    "        if Tank.seize_developed == False:\n",
    "            return\n",
    "        if self.seize_mode == False:\n",
    "            print(f'{self.name}: 시즈모드로 전환.')\n",
    "            self.damage *= 2\n",
    "            self.seize_mode = True\n",
    "        else:\n",
    "            print(f'{self.name}: 시즈모드를 해제.')\n",
    "            self.damage /= 2\n",
    "            self.seize_mode = False\n",
    "    \n",
    "class Flyable:\n",
    "    def __init__(self, flying_speed):\n",
    "        self.flying_speed = flying_speed\n",
    "    def fly(self,name,loc):\n",
    "        print(f'{name}: {loc} 방향으로 날아감. [속도 {self.flying_speed}]')\n",
    "\n",
    "class FlyableAttackUnit(AttackUnit,Flyable):\n",
    "    def __init__(self,name,hp,damage,flying_speed):\n",
    "        AttackUnit.__init__(self,name,hp,0,damage)\n",
    "        Flyable.__init__(self,flying_speed)\n",
    "\n",
    "    def move(self,loc):\n",
    "        print('[공중 유닛 이동]')\n",
    "        self.fly(self.name,loc)\n",
    "        \n",
    "class Wraith(FlyableAttackUnit):\n",
    "    def __init__(self):\n",
    "        FlyableAttackUnit.__init__(self,'레이스',80,20,5)\n",
    "        self.clocked = False\n",
    "    def clocking(self):\n",
    "        if self.clocked == True:\n",
    "            print(f'{self.name}: 클로킹 모드 해제.')\n",
    "            self.clocked = False\n",
    "        else:\n",
    "            print(f'{self.name}: 클로킹 모드 설정.')\n",
    "            self.clocked = True\n",
    "\n",
    "def game_start():\n",
    "    print('[알림] 새로운 게임을 시작.')\n",
    "def game_over():\n",
    "    print('Player: gg')\n",
    "    print('[Player] 님이 게임에서 퇴장함.')\n",
    "\n",
    "game_start()\n",
    "m1,m2,m3 = Marine(),Marine(),Marine()\n",
    "t1,t2 = Tank(),Tank()\n",
    "w1 = Wraith()\n",
    "attack_units = []\n",
    "attack_units.append(m1)\n",
    "attack_units.append(m2)\n",
    "attack_units.append(m3)\n",
    "attack_units.append(t1)\n",
    "attack_units.append(t2)\n",
    "attack_units.append(w1)\n",
    "\n",
    "for unit in attack_units:\n",
    "    unit.move('1시')\n",
    "    \n",
    "Tank.seize_developed = True\n",
    "print('[알림] 탱크 시즈 모드 개발 완료.')\n",
    "\n",
    "for unit in attack_units:\n",
    "    if isinstance(unit,Marine):\n",
    "        unit.stimpack()\n",
    "    elif isinstance(unit,Tank):\n",
    "        unit.set_seize_mode()\n",
    "    elif isinstance(unit,Wraith):\n",
    "        unit.clocking()\n",
    "\n",
    "for unit in attack_units:\n",
    "    unit.attack('1시')\n",
    "\n",
    "for unit in attack_units:\n",
    "    unit.damaged(randint(5,21))\n",
    "\n",
    "game_over()\n"
   ]
  },
  {
   "cell_type": "code",
   "execution_count": 31,
   "metadata": {},
   "outputs": [
    {
     "name": "stdout",
     "output_type": "stream",
     "text": [
      "총 3대의 매물이 있습니다.\n",
      "강남 아파트 매매 10억 2010년\n",
      "마포 오피스텔 전세 5억 2007년\n",
      "송파 빌라 월세 500/50 2000년\n"
     ]
    }
   ],
   "source": [
    "class House:\n",
    "    def __init__(self,loc,house_type,deal_type,price,completion_year):\n",
    "        self.loc = loc\n",
    "        self.house_type = house_type\n",
    "        self.deal_type = deal_type\n",
    "        self.price = price\n",
    "        self.completion_year = completion_year\n",
    "        \n",
    "    def show_detail(self):\n",
    "        print(f'{self.loc} {self.house_type} {self.deal_type} {self.price} {self.completion_year}')\n",
    "\n",
    "house = []\n",
    "house1 = House('강남','아파트','매매','10억','2010년')\n",
    "house2 = House('마포','오피스텔','전세','5억','2007년')\n",
    "house3 = House('송파','빌라','월세','500/50','2000년')\n",
    "house.append(house1)\n",
    "house.append(house2)\n",
    "house.append(house3)\n",
    "print(f'총 {len(house)}대의 매물이 있습니다.')\n",
    "house1.show_detail()\n",
    "house2.show_detail()\n",
    "house3.show_detail()"
   ]
  },
  {
   "cell_type": "code",
   "execution_count": 40,
   "metadata": {
    "scrolled": false
   },
   "outputs": [
    {
     "name": "stdout",
     "output_type": "stream",
     "text": [
      "[남은 치킨 : 10]\n",
      "치킨을 몇 마리 주문하시겠습니까? 2\n",
      "[대기번호 1] 2 마리 주문이 완료되었습니다.\n",
      "[남은 치킨 : 8]\n",
      "치킨을 몇 마리 주문하시겠습니까? 3\n",
      "[대기번호 2] 3 마리 주문이 완료되었습니다.\n",
      "[남은 치킨 : 5]\n",
      "치킨을 몇 마리 주문하시겠습니까? -2\n",
      "잘못된 값을 입력하였습니다.\n",
      "[남은 치킨 : 5]\n",
      "치킨을 몇 마리 주문하시겠습니까? 3마리\n",
      "잘못된 값을 입력하였습니다.\n",
      "[남은 치킨 : 5]\n",
      "치킨을 몇 마리 주문하시겠습니까? 다섯마리\n",
      "잘못된 값을 입력하였습니다.\n",
      "[남은 치킨 : 5]\n",
      "치킨을 몇 마리 주문하시겠습니까? 2\n",
      "[대기번호 3] 2 마리 주문이 완료되었습니다.\n",
      "[남은 치킨 : 3]\n",
      "치킨을 몇 마리 주문하시겠습니까? 1\n",
      "[대기번호 4] 1 마리 주문이 완료되었습니다.\n",
      "[남은 치킨 : 2]\n",
      "치킨을 몇 마리 주문하시겠습니까? 1\n",
      "[대기번호 5] 1 마리 주문이 완료되었습니다.\n",
      "[남은 치킨 : 1]\n",
      "치킨을 몇 마리 주문하시겠습니까? 1\n",
      "[대기번호 6] 1 마리 주문이 완료되었습니다.\n",
      "재고가 소진되어 더 이상 주문을 받지 않습니다.\n"
     ]
    }
   ],
   "source": [
    "class SoldOutError(Exception):\n",
    "    pass\n",
    "        \n",
    "chicken = 10\n",
    "waiting = 1\n",
    "while(True):\n",
    "    print(f'[남은 치킨 : {chicken}]')\n",
    "    try:\n",
    "        order = int(input('치킨을 몇 마리 주문하시겠습니까? '))\n",
    "        if order < 1 or (not isinstance(order,int)):\n",
    "            raise ValueError\n",
    "        if order > chicken: \n",
    "            print('재료가 부족합니다.')\n",
    "        else:\n",
    "            print(f'[대기번호 {waiting}] {order} 마리 주문이 완료되었습니다.')\n",
    "            waiting +=1\n",
    "            chicken -= order\n",
    "        if chicken == 0:\n",
    "            raise SoldOutError\n",
    "    except SoldOutError:\n",
    "            print('재고가 소진되어 더 이상 주문을 받지 않습니다.')\n",
    "            break\n",
    "    except ValueError:\n",
    "            print('잘못된 값을 입력하였습니다.')"
   ]
  },
  {
   "cell_type": "code",
   "execution_count": 2,
   "metadata": {},
   "outputs": [
    {
     "name": "stdout",
     "output_type": "stream",
     "text": [
      "이 프로그램은 gingerK309가 만든 것 입니다.\n",
      "깃허브 주소: https://github.com/gingerK309\n"
     ]
    }
   ],
   "source": [
    "import my_module\n",
    "my_module.sign()"
   ]
  }
 ],
 "metadata": {
  "kernelspec": {
   "display_name": "Python 3",
   "language": "python",
   "name": "python3"
  },
  "language_info": {
   "codemirror_mode": {
    "name": "ipython",
    "version": 3
   },
   "file_extension": ".py",
   "mimetype": "text/x-python",
   "name": "python",
   "nbconvert_exporter": "python",
   "pygments_lexer": "ipython3",
   "version": "3.8.2"
  }
 },
 "nbformat": 4,
 "nbformat_minor": 4
}
